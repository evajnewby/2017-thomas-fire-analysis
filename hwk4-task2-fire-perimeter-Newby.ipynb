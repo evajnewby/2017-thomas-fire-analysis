{
 "cells": [
  {
   "cell_type": "markdown",
   "id": "bc7d9dce-4ffe-4fa7-9ba0-1c7ae7fe6062",
   "metadata": {},
   "source": [
    "## Homework 4 - Visualizing Fire Scars Through False Color - Pt 1\n",
    "\n",
    "Author: Eva Newby\n",
    "\n",
    "Website for instructions: https://meds-eds-220.github.io/MEDS-eds-220-course/assignments/assignment4.html\n",
    "\n",
    "Link to my github repository: https://github.com/evajnewby/eds220-hwk4\n",
    "\n",
    "Rubric: https://docs.google.com/document/d/1-Zm731BLVCs1MXHT5R1H9rr6uvcwHnMZQ2q8xkQ_fWM/edit?tab=t.0\n",
    "\n",
    "Added data folder to gitignore"
   ]
  },
  {
   "cell_type": "markdown",
   "id": "cb96c964-ca3e-460e-a8d6-7f8ecce235a9",
   "metadata": {},
   "source": [
    "## Fire perimeter data retrieval and selection"
   ]
  },
  {
   "cell_type": "code",
   "execution_count": 1,
   "id": "40f5bf4d-7760-4f8c-987c-856f4ff6e704",
   "metadata": {
    "tags": []
   },
   "outputs": [],
   "source": [
    "# Load Packages\n",
    "import os\n",
    "import pandas as pd\n",
    "import matplotlib.pyplot as plt\n",
    "import geopandas as gpd\n",
    "import xarray as xr\n",
    "import rioxarray as rioxr"
   ]
  },
  {
   "cell_type": "code",
   "execution_count": 2,
   "id": "c830bf99-11dd-4553-a5ba-6d795f2e4e0c",
   "metadata": {
    "tags": []
   },
   "outputs": [
    {
     "data": {
      "text/plain": [
       "'/Users/ejnewby/MEDS/EDS-220/eds220-hwk4'"
      ]
     },
     "execution_count": 2,
     "metadata": {},
     "output_type": "execute_result"
    }
   ],
   "source": [
    "# Get current working directory\n",
    "os.getcwd()"
   ]
  },
  {
   "cell_type": "code",
   "execution_count": 3,
   "id": "53ffe343-b26b-4aa5-adad-5cb9f1b9de93",
   "metadata": {
    "tags": []
   },
   "outputs": [],
   "source": [
    "# Read in California fire perimeter data\n",
    "fp = os.path.join('/', 'Users', 'ejnewby', 'MEDS', 'EDS-220', 'eds220-hwk4', 'data','California_Fire_Perimeters_(all)[1].shp')\n",
    "ca_fires= gpd.read_file(fp)"
   ]
  },
  {
   "cell_type": "markdown",
   "id": "23720335-b670-483b-a7ee-343b4574e790",
   "metadata": {},
   "source": [
    "### Explore and clean up the ca_fires gdf"
   ]
  },
  {
   "cell_type": "code",
   "execution_count": 4,
   "id": "d8a2a9b7-eee7-46c0-9f2e-0d46fd92f0de",
   "metadata": {
    "tags": []
   },
   "outputs": [
    {
     "data": {
      "text/html": [
       "<div>\n",
       "<style scoped>\n",
       "    .dataframe tbody tr th:only-of-type {\n",
       "        vertical-align: middle;\n",
       "    }\n",
       "\n",
       "    .dataframe tbody tr th {\n",
       "        vertical-align: top;\n",
       "    }\n",
       "\n",
       "    .dataframe thead th {\n",
       "        text-align: right;\n",
       "    }\n",
       "</style>\n",
       "<table border=\"1\" class=\"dataframe\">\n",
       "  <thead>\n",
       "    <tr style=\"text-align: right;\">\n",
       "      <th></th>\n",
       "      <th>YEAR_</th>\n",
       "      <th>STATE</th>\n",
       "      <th>AGENCY</th>\n",
       "      <th>UNIT_ID</th>\n",
       "      <th>FIRE_NAME</th>\n",
       "      <th>INC_NUM</th>\n",
       "      <th>ALARM_DATE</th>\n",
       "      <th>CONT_DATE</th>\n",
       "      <th>CAUSE</th>\n",
       "      <th>C_METHOD</th>\n",
       "      <th>OBJECTIVE</th>\n",
       "      <th>GIS_ACRES</th>\n",
       "      <th>COMMENTS</th>\n",
       "      <th>COMPLEX_NA</th>\n",
       "      <th>IRWINID</th>\n",
       "      <th>FIRE_NUM</th>\n",
       "      <th>COMPLEX_ID</th>\n",
       "      <th>DECADES</th>\n",
       "      <th>geometry</th>\n",
       "    </tr>\n",
       "  </thead>\n",
       "  <tbody>\n",
       "    <tr>\n",
       "      <th>0</th>\n",
       "      <td>2023</td>\n",
       "      <td>CA</td>\n",
       "      <td>CDF</td>\n",
       "      <td>SKU</td>\n",
       "      <td>WHITWORTH</td>\n",
       "      <td>00004808</td>\n",
       "      <td>2023-06-17</td>\n",
       "      <td>2023-06-17</td>\n",
       "      <td>5</td>\n",
       "      <td>1</td>\n",
       "      <td>1</td>\n",
       "      <td>5.72913</td>\n",
       "      <td>None</td>\n",
       "      <td>None</td>\n",
       "      <td>{7985848C-0AC2-4BA4-8F0E-29F778652E61}</td>\n",
       "      <td>None</td>\n",
       "      <td>None</td>\n",
       "      <td>2020</td>\n",
       "      <td>POLYGON ((-13682443.000 5091132.739, -13682445...</td>\n",
       "    </tr>\n",
       "    <tr>\n",
       "      <th>1</th>\n",
       "      <td>2023</td>\n",
       "      <td>CA</td>\n",
       "      <td>LRA</td>\n",
       "      <td>BTU</td>\n",
       "      <td>KAISER</td>\n",
       "      <td>00010225</td>\n",
       "      <td>2023-06-02</td>\n",
       "      <td>2023-06-02</td>\n",
       "      <td>5</td>\n",
       "      <td>1</td>\n",
       "      <td>1</td>\n",
       "      <td>13.60240</td>\n",
       "      <td>None</td>\n",
       "      <td>None</td>\n",
       "      <td>{43EBCC88-B3AC-48EB-8EF5-417FE0939CCF}</td>\n",
       "      <td>None</td>\n",
       "      <td>None</td>\n",
       "      <td>2020</td>\n",
       "      <td>POLYGON ((-13576727.142 4841226.161, -13576726...</td>\n",
       "    </tr>\n",
       "    <tr>\n",
       "      <th>2</th>\n",
       "      <td>2023</td>\n",
       "      <td>CA</td>\n",
       "      <td>CDF</td>\n",
       "      <td>AEU</td>\n",
       "      <td>JACKSON</td>\n",
       "      <td>00017640</td>\n",
       "      <td>2023-07-01</td>\n",
       "      <td>2023-07-02</td>\n",
       "      <td>2</td>\n",
       "      <td>1</td>\n",
       "      <td>1</td>\n",
       "      <td>27.81450</td>\n",
       "      <td>None</td>\n",
       "      <td>None</td>\n",
       "      <td>{B64E1355-BF1D-441A-95D0-BC1FBB93483B}</td>\n",
       "      <td>None</td>\n",
       "      <td>None</td>\n",
       "      <td>2020</td>\n",
       "      <td>POLYGON ((-13459243.000 4621236.000, -13458968...</td>\n",
       "    </tr>\n",
       "  </tbody>\n",
       "</table>\n",
       "</div>"
      ],
      "text/plain": [
       "   YEAR_ STATE AGENCY UNIT_ID  FIRE_NAME   INC_NUM  ALARM_DATE   CONT_DATE  \\\n",
       "0   2023    CA    CDF     SKU  WHITWORTH  00004808  2023-06-17  2023-06-17   \n",
       "1   2023    CA    LRA     BTU     KAISER  00010225  2023-06-02  2023-06-02   \n",
       "2   2023    CA    CDF     AEU    JACKSON  00017640  2023-07-01  2023-07-02   \n",
       "\n",
       "   CAUSE  C_METHOD  OBJECTIVE  GIS_ACRES COMMENTS COMPLEX_NA  \\\n",
       "0      5         1          1    5.72913     None       None   \n",
       "1      5         1          1   13.60240     None       None   \n",
       "2      2         1          1   27.81450     None       None   \n",
       "\n",
       "                                  IRWINID FIRE_NUM COMPLEX_ID  DECADES  \\\n",
       "0  {7985848C-0AC2-4BA4-8F0E-29F778652E61}     None       None     2020   \n",
       "1  {43EBCC88-B3AC-48EB-8EF5-417FE0939CCF}     None       None     2020   \n",
       "2  {B64E1355-BF1D-441A-95D0-BC1FBB93483B}     None       None     2020   \n",
       "\n",
       "                                            geometry  \n",
       "0  POLYGON ((-13682443.000 5091132.739, -13682445...  \n",
       "1  POLYGON ((-13576727.142 4841226.161, -13576726...  \n",
       "2  POLYGON ((-13459243.000 4621236.000, -13458968...  "
      ]
     },
     "execution_count": 4,
     "metadata": {},
     "output_type": "execute_result"
    }
   ],
   "source": [
    "# View the first 3 rows of fires df\n",
    "ca_fires.head(3)"
   ]
  },
  {
   "cell_type": "code",
   "execution_count": 5,
   "id": "b325c2f8-8324-45c3-b236-0bda69261a92",
   "metadata": {
    "tags": []
   },
   "outputs": [
    {
     "data": {
      "text/plain": [
       "YEAR_            int64\n",
       "STATE           object\n",
       "AGENCY          object\n",
       "UNIT_ID         object\n",
       "FIRE_NAME       object\n",
       "INC_NUM         object\n",
       "ALARM_DATE      object\n",
       "CONT_DATE       object\n",
       "CAUSE            int64\n",
       "C_METHOD         int64\n",
       "OBJECTIVE        int64\n",
       "GIS_ACRES      float64\n",
       "COMMENTS        object\n",
       "COMPLEX_NA      object\n",
       "IRWINID         object\n",
       "FIRE_NUM        object\n",
       "COMPLEX_ID      object\n",
       "DECADES          int64\n",
       "geometry      geometry\n",
       "dtype: object"
      ]
     },
     "execution_count": 5,
     "metadata": {},
     "output_type": "execute_result"
    }
   ],
   "source": [
    "# Column data types of ca_fires\n",
    "ca_fires.dtypes"
   ]
  },
  {
   "cell_type": "code",
   "execution_count": 6,
   "id": "edacfb84-b076-4224-9512-5a6f89f75623",
   "metadata": {
    "tags": []
   },
   "outputs": [
    {
     "name": "stdout",
     "output_type": "stream",
     "text": [
      "<class 'geopandas.geodataframe.GeoDataFrame'>\n",
      "RangeIndex: 22261 entries, 0 to 22260\n",
      "Data columns (total 19 columns):\n",
      " #   Column      Non-Null Count  Dtype   \n",
      "---  ------      --------------  -----   \n",
      " 0   YEAR_       22261 non-null  int64   \n",
      " 1   STATE       22261 non-null  object  \n",
      " 2   AGENCY      22208 non-null  object  \n",
      " 3   UNIT_ID     22194 non-null  object  \n",
      " 4   FIRE_NAME   15672 non-null  object  \n",
      " 5   INC_NUM     21286 non-null  object  \n",
      " 6   ALARM_DATE  22261 non-null  object  \n",
      " 7   CONT_DATE   22261 non-null  object  \n",
      " 8   CAUSE       22261 non-null  int64   \n",
      " 9   C_METHOD    22261 non-null  int64   \n",
      " 10  OBJECTIVE   22261 non-null  int64   \n",
      " 11  GIS_ACRES   22261 non-null  float64 \n",
      " 12  COMMENTS    2707 non-null   object  \n",
      " 13  COMPLEX_NA  596 non-null    object  \n",
      " 14  IRWINID     2695 non-null   object  \n",
      " 15  FIRE_NUM    17147 non-null  object  \n",
      " 16  COMPLEX_ID  360 non-null    object  \n",
      " 17  DECADES     22261 non-null  int64   \n",
      " 18  geometry    22261 non-null  geometry\n",
      "dtypes: float64(1), geometry(1), int64(5), object(12)\n",
      "memory usage: 3.2+ MB\n"
     ]
    }
   ],
   "source": [
    "# ca_fires df info\n",
    "ca_fires.info()"
   ]
  },
  {
   "cell_type": "code",
   "execution_count": 7,
   "id": "c02baafa-2d0e-4b6c-9ccf-38303500326e",
   "metadata": {
    "tags": []
   },
   "outputs": [],
   "source": [
    "# Simplify ca_fires column names\n",
    "ca_fires.columns = ca_fires.columns.str.lower().str.replace(' ', '_')"
   ]
  },
  {
   "cell_type": "code",
   "execution_count": 8,
   "id": "5bd9e009-4731-4398-9678-bb24a76e9568",
   "metadata": {
    "tags": []
   },
   "outputs": [],
   "source": [
    "# Filter to Thomas fire\n",
    "thomas = ca_fires[ca_fires['fire_name'] == 'THOMAS']"
   ]
  },
  {
   "cell_type": "code",
   "execution_count": 9,
   "id": "69894a69-ed4c-4848-8862-59569da019d3",
   "metadata": {
    "tags": []
   },
   "outputs": [
    {
     "name": "stdout",
     "output_type": "stream",
     "text": [
      "<class 'geopandas.geodataframe.GeoDataFrame'>\n",
      "Index: 5 entries, 2654 to 14279\n",
      "Data columns (total 19 columns):\n",
      " #   Column      Non-Null Count  Dtype   \n",
      "---  ------      --------------  -----   \n",
      " 0   year_       5 non-null      int64   \n",
      " 1   state       5 non-null      object  \n",
      " 2   agency      5 non-null      object  \n",
      " 3   unit_id     5 non-null      object  \n",
      " 4   fire_name   5 non-null      object  \n",
      " 5   inc_num     5 non-null      object  \n",
      " 6   alarm_date  5 non-null      object  \n",
      " 7   cont_date   5 non-null      object  \n",
      " 8   cause       5 non-null      int64   \n",
      " 9   c_method    5 non-null      int64   \n",
      " 10  objective   5 non-null      int64   \n",
      " 11  gis_acres   5 non-null      float64 \n",
      " 12  comments    1 non-null      object  \n",
      " 13  complex_na  0 non-null      object  \n",
      " 14  irwinid     0 non-null      object  \n",
      " 15  fire_num    3 non-null      object  \n",
      " 16  complex_id  0 non-null      object  \n",
      " 17  decades     5 non-null      int64   \n",
      " 18  geometry    5 non-null      geometry\n",
      "dtypes: float64(1), geometry(1), int64(5), object(12)\n",
      "memory usage: 800.0+ bytes\n"
     ]
    }
   ],
   "source": [
    "# View Thomas gdf info\n",
    "thomas.info()"
   ]
  },
  {
   "cell_type": "code",
   "execution_count": 10,
   "id": "38cd7b2e-e170-46cf-85b3-4ffa8480be71",
   "metadata": {
    "tags": []
   },
   "outputs": [
    {
     "data": {
      "text/plain": [
       "<Projected CRS: EPSG:3857>\n",
       "Name: WGS 84 / Pseudo-Mercator\n",
       "Axis Info [cartesian]:\n",
       "- X[east]: Easting (metre)\n",
       "- Y[north]: Northing (metre)\n",
       "Area of Use:\n",
       "- name: World between 85.06°S and 85.06°N.\n",
       "- bounds: (-180.0, -85.06, 180.0, 85.06)\n",
       "Coordinate Operation:\n",
       "- name: Popular Visualisation Pseudo-Mercator\n",
       "- method: Popular Visualisation Pseudo Mercator\n",
       "Datum: World Geodetic System 1984 ensemble\n",
       "- Ellipsoid: WGS 84\n",
       "- Prime Meridian: Greenwich"
      ]
     },
     "execution_count": 10,
     "metadata": {},
     "output_type": "execute_result"
    }
   ],
   "source": [
    "# Find CRS of thomas gdf\n",
    "thomas.crs"
   ]
  },
  {
   "cell_type": "markdown",
   "id": "0550cea8-73ae-46ce-bece-5f19462175cc",
   "metadata": {},
   "source": [
    "`thomas` df is projected CRS: EPSG 3857"
   ]
  },
  {
   "cell_type": "code",
   "execution_count": 11,
   "id": "ccde622a-f9fd-4a9e-99f9-2f865a20882a",
   "metadata": {
    "tags": []
   },
   "outputs": [
    {
     "data": {
      "text/html": [
       "<div>\n",
       "<style scoped>\n",
       "    .dataframe tbody tr th:only-of-type {\n",
       "        vertical-align: middle;\n",
       "    }\n",
       "\n",
       "    .dataframe tbody tr th {\n",
       "        vertical-align: top;\n",
       "    }\n",
       "\n",
       "    .dataframe thead th {\n",
       "        text-align: right;\n",
       "    }\n",
       "</style>\n",
       "<table border=\"1\" class=\"dataframe\">\n",
       "  <thead>\n",
       "    <tr style=\"text-align: right;\">\n",
       "      <th></th>\n",
       "      <th>year_</th>\n",
       "      <th>state</th>\n",
       "      <th>agency</th>\n",
       "      <th>unit_id</th>\n",
       "      <th>fire_name</th>\n",
       "      <th>inc_num</th>\n",
       "      <th>alarm_date</th>\n",
       "      <th>cont_date</th>\n",
       "      <th>cause</th>\n",
       "      <th>c_method</th>\n",
       "      <th>objective</th>\n",
       "      <th>gis_acres</th>\n",
       "      <th>comments</th>\n",
       "      <th>complex_na</th>\n",
       "      <th>irwinid</th>\n",
       "      <th>fire_num</th>\n",
       "      <th>complex_id</th>\n",
       "      <th>decades</th>\n",
       "      <th>geometry</th>\n",
       "    </tr>\n",
       "  </thead>\n",
       "  <tbody>\n",
       "    <tr>\n",
       "      <th>2654</th>\n",
       "      <td>2017</td>\n",
       "      <td>CA</td>\n",
       "      <td>USF</td>\n",
       "      <td>VNC</td>\n",
       "      <td>THOMAS</td>\n",
       "      <td>00003583</td>\n",
       "      <td>2017-12-04</td>\n",
       "      <td>2018-01-12</td>\n",
       "      <td>9</td>\n",
       "      <td>7</td>\n",
       "      <td>1</td>\n",
       "      <td>281791.0000</td>\n",
       "      <td>CONT_DATE based on Inciweb</td>\n",
       "      <td>None</td>\n",
       "      <td>None</td>\n",
       "      <td>None</td>\n",
       "      <td>None</td>\n",
       "      <td>2010</td>\n",
       "      <td>MULTIPOLYGON (((-13316089.016 4088553.040, -13...</td>\n",
       "    </tr>\n",
       "    <tr>\n",
       "      <th>3937</th>\n",
       "      <td>2013</td>\n",
       "      <td>CA</td>\n",
       "      <td>CDF</td>\n",
       "      <td>RRU</td>\n",
       "      <td>THOMAS</td>\n",
       "      <td>00007015</td>\n",
       "      <td>2013-11-09</td>\n",
       "      <td>2013-11-09</td>\n",
       "      <td>10</td>\n",
       "      <td>1</td>\n",
       "      <td>1</td>\n",
       "      <td>27.8195</td>\n",
       "      <td>None</td>\n",
       "      <td>None</td>\n",
       "      <td>None</td>\n",
       "      <td>None</td>\n",
       "      <td>None</td>\n",
       "      <td>2010</td>\n",
       "      <td>MULTIPOLYGON (((-13009051.743 3968808.886, -13...</td>\n",
       "    </tr>\n",
       "    <tr>\n",
       "      <th>10859</th>\n",
       "      <td>1985</td>\n",
       "      <td>CA</td>\n",
       "      <td>USF</td>\n",
       "      <td>CNF</td>\n",
       "      <td>THOMAS</td>\n",
       "      <td>00000000</td>\n",
       "      <td>1985-10-04</td>\n",
       "      <td>1985-10-07</td>\n",
       "      <td>9</td>\n",
       "      <td>8</td>\n",
       "      <td>1</td>\n",
       "      <td>1181.9800</td>\n",
       "      <td>None</td>\n",
       "      <td>None</td>\n",
       "      <td>None</td>\n",
       "      <td>00000082</td>\n",
       "      <td>None</td>\n",
       "      <td>1980</td>\n",
       "      <td>POLYGON ((-13066745.713 3951653.325, -13066679...</td>\n",
       "    </tr>\n",
       "  </tbody>\n",
       "</table>\n",
       "</div>"
      ],
      "text/plain": [
       "       year_ state agency unit_id fire_name   inc_num  alarm_date   cont_date  \\\n",
       "2654    2017    CA    USF     VNC    THOMAS  00003583  2017-12-04  2018-01-12   \n",
       "3937    2013    CA    CDF     RRU    THOMAS  00007015  2013-11-09  2013-11-09   \n",
       "10859   1985    CA    USF     CNF    THOMAS  00000000  1985-10-04  1985-10-07   \n",
       "\n",
       "       cause  c_method  objective    gis_acres                    comments  \\\n",
       "2654       9         7          1  281791.0000  CONT_DATE based on Inciweb   \n",
       "3937      10         1          1      27.8195                        None   \n",
       "10859      9         8          1    1181.9800                        None   \n",
       "\n",
       "      complex_na irwinid  fire_num complex_id  decades  \\\n",
       "2654        None    None      None       None     2010   \n",
       "3937        None    None      None       None     2010   \n",
       "10859       None    None  00000082       None     1980   \n",
       "\n",
       "                                                geometry  \n",
       "2654   MULTIPOLYGON (((-13316089.016 4088553.040, -13...  \n",
       "3937   MULTIPOLYGON (((-13009051.743 3968808.886, -13...  \n",
       "10859  POLYGON ((-13066745.713 3951653.325, -13066679...  "
      ]
     },
     "execution_count": 11,
     "metadata": {},
     "output_type": "execute_result"
    }
   ],
   "source": [
    "# View Thomas gdf first 3 rows\n",
    "thomas.head(3)"
   ]
  },
  {
   "cell_type": "code",
   "execution_count": 12,
   "id": "dbead3d2-27f1-429c-804a-325292ac726d",
   "metadata": {
    "tags": []
   },
   "outputs": [
    {
     "data": {
      "text/plain": [
       "<Axes: >"
      ]
     },
     "execution_count": 12,
     "metadata": {},
     "output_type": "execute_result"
    },
    {
     "data": {
      "image/png": "[encoded data removed]",
      "text/plain": [
       "<Figure size 640x480 with 1 Axes>"
      ]
     },
     "metadata": {},
     "output_type": "display_data"
    }
   ],
   "source": [
    "# Plot the Thomas fire gdf\n",
    "thomas.plot()"
   ]
  },
  {
   "cell_type": "markdown",
   "id": "b3a540c4-bf85-4d1a-8cba-d4799f1d1b07",
   "metadata": {
    "tags": []
   },
   "source": [
    "Write a brief summary of the information you obtained from the preliminary information. Your summary should include the CRS of the data and whether this is projected or geographic\n",
    "\n",
    "Briefly explain your reasoning for selecting that specific file format."
   ]
  },
  {
   "cell_type": "markdown",
   "id": "32b7af0b-c626-47f6-b8e7-75e2d8619ce2",
   "metadata": {},
   "source": [
    "I chose the shapefile data from data.gov, as this was one of the first websites I found that was not through an ESRI platform. I chose to upload the shapefiles as this is what I had used in the past while working, and wanted more practice with what I had experienced in the industry."
   ]
  }
 ],
 "metadata": {
  "kernelspec": {
   "display_name": "Anaconda 3 (EDS220)",
   "language": "python",
   "name": "eds220-env"
  },
  "language_info": {
   "codemirror_mode": {
    "name": "ipython",
    "version": 3
   },
   "file_extension": ".py",
   "mimetype": "text/x-python",
   "name": "python",
   "nbconvert_exporter": "python",
   "pygments_lexer": "ipython3",
   "version": "3.11.4"
  }
 },
 "nbformat": 4,
 "nbformat_minor": 5
}

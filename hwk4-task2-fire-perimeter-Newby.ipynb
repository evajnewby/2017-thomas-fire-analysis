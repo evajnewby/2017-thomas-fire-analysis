{
 "cells": [
  {
   "cell_type": "markdown",
   "id": "bc7d9dce-4ffe-4fa7-9ba0-1c7ae7fe6062",
   "metadata": {},
   "source": [
    "## Homework 4 - Visualizing Fire Scars Through False Color - Pt 1\n",
    "\n",
    "Author: Eva Newby\n",
    "\n",
    "Website for instructions: https://meds-eds-220.github.io/MEDS-eds-220-course/assignments/assignment4.html\n",
    "\n",
    "Link to my github repository: https://github.com/evajnewby/eds220-hwk4\n",
    "\n",
    "Rubric: https://docs.google.com/document/d/1-Zm731BLVCs1MXHT5R1H9rr6uvcwHnMZQ2q8xkQ_fWM/edit?tab=t.0\n",
    "\n",
    "Added data folder to gitignore"
   ]
  },
  {
   "cell_type": "markdown",
   "id": "e8247af8-f6af-4f78-8398-76704ac0685c",
   "metadata": {},
   "source": [
    "### About\n",
    "\n",
    "The purpose of this assignment is to save a boundary for the 2017 Thomas Fire in California as a GeoJSON, to then be added ontop of the false color image in part 2. To do this, data of all California fires was downloaded, explored, filtered, and saved. \n",
    "\n",
    "Additionally, through working through the steps above, one will gain practice loading in shapefiles, cleaning the data, and filter to the appropriate fire."
   ]
  },
  {
   "cell_type": "markdown",
   "id": "4f1ea0ee-b1ed-42af-9e97-92de055620ea",
   "metadata": {},
   "source": [
    "#### The Dataset\n",
    "The data is from the United States Geological Survey (USGS) and contains data for all California fire perimeters in several file formats compatible with python (GeoJSON, Shapefile, CSV, etc.). Some fires are not included due to records being lost or destroyed. \n",
    "\n",
    "Data reference:\n",
    "U.S. Geological Survey (USGS). (2020). California Fire Perimeters (ALL). Data.gov. Retrieved November 19, 2024, from https://catalog.data.gov/dataset/california-fire-perimeters-all-b3436"
   ]
  },
  {
   "cell_type": "markdown",
   "id": "cb96c964-ca3e-460e-a8d6-7f8ecce235a9",
   "metadata": {},
   "source": [
    "## Fire perimeter data retrieval and selection"
   ]
  },
  {
   "cell_type": "code",
   "execution_count": 1,
   "id": "40f5bf4d-7760-4f8c-987c-856f4ff6e704",
   "metadata": {
    "tags": []
   },
   "outputs": [],
   "source": [
    "# Load Packages\n",
    "import os\n",
    "import pandas as pd\n",
    "import matplotlib.pyplot as plt\n",
    "import geopandas as gpd\n",
    "import xarray as xr\n",
    "import rioxarray as rioxr"
   ]
  },
  {
   "cell_type": "code",
   "execution_count": 2,
   "id": "c830bf99-11dd-4553-a5ba-6d795f2e4e0c",
   "metadata": {
    "tags": []
   },
   "outputs": [
    {
     "data": {
      "text/plain": [
       "'/Users/ejnewby/MEDS/EDS-220/eds220-hwk4'"
      ]
     },
     "execution_count": 2,
     "metadata": {},
     "output_type": "execute_result"
    }
   ],
   "source": [
    "# Get current working directory\n",
    "os.getcwd()"
   ]
  },
  {
   "cell_type": "code",
   "execution_count": null,
   "id": "53ffe343-b26b-4aa5-adad-5cb9f1b9de93",
   "metadata": {
    "tags": []
   },
   "outputs": [],
   "source": [
    "# Read in California fire perimeter data\n",
    "fp = os.path.join('/', 'Users', 'ejnewby', 'MEDS', 'EDS-220', 'eds220-hwk4', 'data','California_Fire_Perimeters_(all)[1].shp')\n",
    "ca_fires= gpd.read_file(fp)"
   ]
  },
  {
   "cell_type": "markdown",
   "id": "23720335-b670-483b-a7ee-343b4574e790",
   "metadata": {},
   "source": [
    "### Explore and clean up the ca_fires gdf"
   ]
  },
  {
   "cell_type": "code",
   "execution_count": null,
   "id": "d8a2a9b7-eee7-46c0-9f2e-0d46fd92f0de",
   "metadata": {
    "tags": []
   },
   "outputs": [],
   "source": [
    "# View the first 3 rows of fires df\n",
    "ca_fires.head(3)"
   ]
  },
  {
   "cell_type": "code",
   "execution_count": null,
   "id": "b325c2f8-8324-45c3-b236-0bda69261a92",
   "metadata": {
    "tags": []
   },
   "outputs": [],
   "source": [
    "# Column data types of ca_fires\n",
    "ca_fires.dtypes"
   ]
  },
  {
   "cell_type": "code",
   "execution_count": null,
   "id": "edacfb84-b076-4224-9512-5a6f89f75623",
   "metadata": {
    "tags": []
   },
   "outputs": [],
   "source": [
    "# ca_fires df info\n",
    "ca_fires.info()"
   ]
  },
  {
   "cell_type": "markdown",
   "id": "e4eb131b-1b9c-458b-b6da-5b9487f2ef77",
   "metadata": {},
   "source": [
    "We can see from the exploration above, that the column names could use some cleaning up, such as converting to lower case and replacing a space with an underscore. Simplified column names will make filtering to the Thomas fire more simplified. "
   ]
  },
  {
   "cell_type": "code",
   "execution_count": null,
   "id": "c02baafa-2d0e-4b6c-9ccf-38303500326e",
   "metadata": {
    "tags": []
   },
   "outputs": [],
   "source": [
    "# Convert ca_fires column names to lower case, and remove any spaces. \n",
    "ca_fires.columns = ca_fires.columns.str.lower().str.replace(' ', '_')"
   ]
  },
  {
   "cell_type": "code",
   "execution_count": null,
   "id": "de854175-e9a6-48ed-a839-85934f9dd1b9",
   "metadata": {
    "tags": []
   },
   "outputs": [],
   "source": [
    "# Check the outputs\n",
    "ca_fires.head(3)"
   ]
  },
  {
   "cell_type": "code",
   "execution_count": null,
   "id": "5bd9e009-4731-4398-9678-bb24a76e9568",
   "metadata": {
    "tags": []
   },
   "outputs": [],
   "source": [
    "# Filter fires df to 2017 Thomas fire\n",
    "thomas = ca_fires[(ca_fires['fire_name'] == 'THOMAS') & (ca_fires['year_'] == 2017)]"
   ]
  },
  {
   "cell_type": "code",
   "execution_count": null,
   "id": "147c8b6b-bc36-4a51-aa22-b320baf94ae0",
   "metadata": {
    "tags": []
   },
   "outputs": [],
   "source": [
    "# View Thomas df, and confirm that there is just one fire being shown. \n",
    "thomas"
   ]
  },
  {
   "cell_type": "markdown",
   "id": "8e44771e-ff33-4518-8e0e-132d0389fb48",
   "metadata": {},
   "source": [
    "To explore the thomas geodata frame, let's look at the class, datatypes, column names, coordinate reference system, and plot. "
   ]
  },
  {
   "cell_type": "code",
   "execution_count": null,
   "id": "69894a69-ed4c-4848-8862-59569da019d3",
   "metadata": {
    "tags": []
   },
   "outputs": [],
   "source": [
    "# View Thomas gdf info\n",
    "thomas.info()"
   ]
  },
  {
   "cell_type": "code",
   "execution_count": null,
   "id": "38cd7b2e-e170-46cf-85b3-4ffa8480be71",
   "metadata": {
    "tags": []
   },
   "outputs": [],
   "source": [
    "# CRS of thomas gdf\n",
    "thomas.crs"
   ]
  },
  {
   "cell_type": "markdown",
   "id": "0550cea8-73ae-46ce-bece-5f19462175cc",
   "metadata": {},
   "source": [
    "`thomas` df is projected CRS: EPSG 3857"
   ]
  },
  {
   "cell_type": "code",
   "execution_count": null,
   "id": "dbead3d2-27f1-429c-804a-325292ac726d",
   "metadata": {
    "tags": []
   },
   "outputs": [],
   "source": [
    "# Plot the Thomas fire gdf\n",
    "thomas.plot()"
   ]
  },
  {
   "cell_type": "markdown",
   "id": "32b7af0b-c626-47f6-b8e7-75e2d8619ce2",
   "metadata": {},
   "source": [
    "### Brief reflection on our data source and exploration. \n",
    "\n",
    "I chose the shapefile data from data.gov, as this was one of the first websites I found that was not through an ESRI platform. I chose to upload the shapefiles as this is what I had used in the past while working, and wanted more practice with what I had experienced in the industry.\n",
    "\n",
    "Through the preliminary exploration, I was able to determine that the coordinate reference system is EPSG:4326, which is WGS 84, and that the coordinate system is projected. Additionally, viewing the datatypes was helpful to determine if any column data types needed to be changed (none needed changing)."
   ]
  },
  {
   "cell_type": "code",
   "execution_count": null,
   "id": "5cdc6a75-d7c9-4419-9c5a-5777aad4f9e9",
   "metadata": {
    "tags": []
   },
   "outputs": [],
   "source": [
    "# Save Thomas fire boundary as a GeoJSON file\n",
    "thomas.to_file(\"data/thomas.geojson\", driver='GeoJSON')"
   ]
  }
 ],
 "metadata": {
  "kernelspec": {
   "display_name": "Anaconda 3 (EDS220)",
   "language": "python",
   "name": "eds220-env"
  },
  "language_info": {
   "codemirror_mode": {
    "name": "ipython",
    "version": 3
   },
   "file_extension": ".py",
   "mimetype": "text/x-python",
   "name": "python",
   "nbconvert_exporter": "python",
   "pygments_lexer": "ipython3",
   "version": "3.11.4"
  }
 },
 "nbformat": 4,
 "nbformat_minor": 5
}
